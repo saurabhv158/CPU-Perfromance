{
 "cells": [
  {
   "cell_type": "markdown",
   "id": "46e41e81",
   "metadata": {},
   "source": [
    "# CPU Performance"
   ]
  },
  {
   "cell_type": "markdown",
   "id": "fc4124c3",
   "metadata": {},
   "source": [
    "About the dataset:\n",
    "\n",
    "\n",
    "\n",
    "\n",
    "Title: Relative CPU Performance Data\n",
    "Number of Instances: 209\n",
    "Number of Attributes: 6 predictive attributes\n",
    "                      \n",
    "\n",
    "Attribute Information:\n",
    "\n",
    "1. MMIN: minimum main memory in kilobytes (integer)\n",
    "2. MMAX: maximum main memory in kilobytes (integer)\n",
    "3. CACH: cache memory in kilobytes (integer)\n",
    "4. CHMIN: minimum channels in units (integer)\n",
    "5. CHMAX: maximum channels in units (integer)\n",
    "6. PRP: published relative performance (integer)\n",
    "\n",
    "Missing Attribute Values: None\n",
    "\n",
    "Class field: PRP"
   ]
  },
  {
   "cell_type": "markdown",
   "id": "1f650d78",
   "metadata": {},
   "source": [
    "# Importing all required libraries"
   ]
  },
  {
   "cell_type": "code",
   "execution_count": 107,
   "id": "34b48222",
   "metadata": {},
   "outputs": [],
   "source": [
    "#Ignore warnings\n",
    "import warnings\n",
    "warnings.filterwarnings('ignore')\n",
    "import os\n",
    "\n",
    "#Importing libraries for handling table-like data and matrices\n",
    "import numpy as np\n",
    "import pandas as pd\n",
    "\n",
    "#Importing Modelling Algorithm libraries\n",
    "from sklearn.tree import DecisionTreeClassifier\n",
    "from sklearn.linear_model import LogisticRegression\n",
    "from sklearn.neighbors import KNeighborsClassifier\n",
    "from sklearn.naive_bayes import GaussianNB\n",
    "from sklearn.svm import SVC, LinearSVC\n",
    "from sklearn.ensemble import RandomForestClassifier , GradientBoostingClassifier\n",
    "#from sklearn.preprocessing import Imputer , Normalizer , scale\n",
    "from sklearn.model_selection import train_test_split , StratifiedKFold\n",
    "from sklearn.feature_selection import RFECV\n",
    "\n",
    "#Importing Visualisation libraries\n",
    "import matplotlib as mpl\n",
    "import matplotlib.pyplot as plt\n",
    "import matplotlib.pylab as pylab\n",
    "import seaborn as sns"
   ]
  },
  {
   "cell_type": "markdown",
   "id": "8f46acfa",
   "metadata": {},
   "source": [
    "# Importing and understanding our dataset\n"
   ]
  },
  {
   "cell_type": "code",
   "execution_count": 108,
   "id": "e12ac1dc",
   "metadata": {},
   "outputs": [],
   "source": [
    "dataset = pd.read_excel(\"CPU_Data.xlsx\")"
   ]
  },
  {
   "cell_type": "code",
   "execution_count": 109,
   "id": "7bde3c4c",
   "metadata": {},
   "outputs": [],
   "source": [
    "%matplotlib inline\n",
    "mpl.style.use( 'ggplot' )\n",
    "sns.set_style( 'white' )\n",
    "pylab.rcParams[ 'figure.figsize' ] = 8 , 6"
   ]
  },
  {
   "cell_type": "code",
   "execution_count": 110,
   "id": "7d60f43e",
   "metadata": {},
   "outputs": [
    {
     "data": {
      "text/html": [
       "<div>\n",
       "<style scoped>\n",
       "    .dataframe tbody tr th:only-of-type {\n",
       "        vertical-align: middle;\n",
       "    }\n",
       "\n",
       "    .dataframe tbody tr th {\n",
       "        vertical-align: top;\n",
       "    }\n",
       "\n",
       "    .dataframe thead th {\n",
       "        text-align: right;\n",
       "    }\n",
       "</style>\n",
       "<table border=\"1\" class=\"dataframe\">\n",
       "  <thead>\n",
       "    <tr style=\"text-align: right;\">\n",
       "      <th></th>\n",
       "      <th>MYCT</th>\n",
       "      <th>MMIN</th>\n",
       "      <th>MMAX</th>\n",
       "      <th>CACH</th>\n",
       "      <th>CHMIN</th>\n",
       "      <th>CHMAX</th>\n",
       "      <th>PRP</th>\n",
       "      <th>Unnamed: 7</th>\n",
       "      <th>Unnamed: 8</th>\n",
       "      <th>Unnamed: 9</th>\n",
       "      <th>...</th>\n",
       "      <th>Unnamed: 16</th>\n",
       "      <th>Unnamed: 17</th>\n",
       "      <th>Unnamed: 18</th>\n",
       "      <th>Unnamed: 19</th>\n",
       "      <th>Unnamed: 20</th>\n",
       "      <th>Unnamed: 21</th>\n",
       "      <th>Unnamed: 22</th>\n",
       "      <th>Unnamed: 23</th>\n",
       "      <th>Unnamed: 24</th>\n",
       "      <th>Unnamed: 25</th>\n",
       "    </tr>\n",
       "  </thead>\n",
       "  <tbody>\n",
       "    <tr>\n",
       "      <th>0</th>\n",
       "      <td>125</td>\n",
       "      <td>256</td>\n",
       "      <td>6000</td>\n",
       "      <td>256</td>\n",
       "      <td>16</td>\n",
       "      <td>128</td>\n",
       "      <td>198</td>\n",
       "      <td>NaN</td>\n",
       "      <td>NaN</td>\n",
       "      <td>NaN</td>\n",
       "      <td>...</td>\n",
       "      <td>NaN</td>\n",
       "      <td>NaN</td>\n",
       "      <td>NaN</td>\n",
       "      <td>NaN</td>\n",
       "      <td>NaN</td>\n",
       "      <td>NaN</td>\n",
       "      <td>NaN</td>\n",
       "      <td>NaN</td>\n",
       "      <td>NaN</td>\n",
       "      <td>NaN</td>\n",
       "    </tr>\n",
       "    <tr>\n",
       "      <th>1</th>\n",
       "      <td>29</td>\n",
       "      <td>8000</td>\n",
       "      <td>32000</td>\n",
       "      <td>32</td>\n",
       "      <td>8</td>\n",
       "      <td>32</td>\n",
       "      <td>269</td>\n",
       "      <td>NaN</td>\n",
       "      <td>NaN</td>\n",
       "      <td>NaN</td>\n",
       "      <td>...</td>\n",
       "      <td>NaN</td>\n",
       "      <td>NaN</td>\n",
       "      <td>NaN</td>\n",
       "      <td>NaN</td>\n",
       "      <td>NaN</td>\n",
       "      <td>NaN</td>\n",
       "      <td>NaN</td>\n",
       "      <td>NaN</td>\n",
       "      <td>NaN</td>\n",
       "      <td>NaN</td>\n",
       "    </tr>\n",
       "    <tr>\n",
       "      <th>2</th>\n",
       "      <td>29</td>\n",
       "      <td>8000</td>\n",
       "      <td>32000</td>\n",
       "      <td>32</td>\n",
       "      <td>8</td>\n",
       "      <td>32</td>\n",
       "      <td>220</td>\n",
       "      <td>NaN</td>\n",
       "      <td>NaN</td>\n",
       "      <td>NaN</td>\n",
       "      <td>...</td>\n",
       "      <td>NaN</td>\n",
       "      <td>NaN</td>\n",
       "      <td>NaN</td>\n",
       "      <td>NaN</td>\n",
       "      <td>NaN</td>\n",
       "      <td>NaN</td>\n",
       "      <td>NaN</td>\n",
       "      <td>NaN</td>\n",
       "      <td>NaN</td>\n",
       "      <td>NaN</td>\n",
       "    </tr>\n",
       "    <tr>\n",
       "      <th>3</th>\n",
       "      <td>29</td>\n",
       "      <td>8000</td>\n",
       "      <td>32000</td>\n",
       "      <td>32</td>\n",
       "      <td>8</td>\n",
       "      <td>32</td>\n",
       "      <td>172</td>\n",
       "      <td>NaN</td>\n",
       "      <td>NaN</td>\n",
       "      <td>NaN</td>\n",
       "      <td>...</td>\n",
       "      <td>NaN</td>\n",
       "      <td>NaN</td>\n",
       "      <td>NaN</td>\n",
       "      <td>NaN</td>\n",
       "      <td>NaN</td>\n",
       "      <td>NaN</td>\n",
       "      <td>NaN</td>\n",
       "      <td>NaN</td>\n",
       "      <td>NaN</td>\n",
       "      <td>NaN</td>\n",
       "    </tr>\n",
       "    <tr>\n",
       "      <th>4</th>\n",
       "      <td>29</td>\n",
       "      <td>8000</td>\n",
       "      <td>16000</td>\n",
       "      <td>32</td>\n",
       "      <td>8</td>\n",
       "      <td>16</td>\n",
       "      <td>132</td>\n",
       "      <td>NaN</td>\n",
       "      <td>NaN</td>\n",
       "      <td>NaN</td>\n",
       "      <td>...</td>\n",
       "      <td>NaN</td>\n",
       "      <td>NaN</td>\n",
       "      <td>NaN</td>\n",
       "      <td>NaN</td>\n",
       "      <td>NaN</td>\n",
       "      <td>NaN</td>\n",
       "      <td>NaN</td>\n",
       "      <td>NaN</td>\n",
       "      <td>NaN</td>\n",
       "      <td>NaN</td>\n",
       "    </tr>\n",
       "  </tbody>\n",
       "</table>\n",
       "<p>5 rows × 26 columns</p>\n",
       "</div>"
      ],
      "text/plain": [
       "   MYCT  MMIN   MMAX  CACH  CHMIN  CHMAX  PRP  Unnamed: 7  Unnamed: 8  \\\n",
       "0   125   256   6000   256     16    128  198         NaN         NaN   \n",
       "1    29  8000  32000    32      8     32  269         NaN         NaN   \n",
       "2    29  8000  32000    32      8     32  220         NaN         NaN   \n",
       "3    29  8000  32000    32      8     32  172         NaN         NaN   \n",
       "4    29  8000  16000    32      8     16  132         NaN         NaN   \n",
       "\n",
       "   Unnamed: 9  ...  Unnamed: 16  Unnamed: 17  Unnamed: 18  Unnamed: 19  \\\n",
       "0         NaN  ...          NaN          NaN          NaN          NaN   \n",
       "1         NaN  ...          NaN          NaN          NaN          NaN   \n",
       "2         NaN  ...          NaN          NaN          NaN          NaN   \n",
       "3         NaN  ...          NaN          NaN          NaN          NaN   \n",
       "4         NaN  ...          NaN          NaN          NaN          NaN   \n",
       "\n",
       "   Unnamed: 20  Unnamed: 21  Unnamed: 22  Unnamed: 23  Unnamed: 24  \\\n",
       "0          NaN          NaN          NaN          NaN          NaN   \n",
       "1          NaN          NaN          NaN          NaN          NaN   \n",
       "2          NaN          NaN          NaN          NaN          NaN   \n",
       "3          NaN          NaN          NaN          NaN          NaN   \n",
       "4          NaN          NaN          NaN          NaN          NaN   \n",
       "\n",
       "   Unnamed: 25  \n",
       "0          NaN  \n",
       "1          NaN  \n",
       "2          NaN  \n",
       "3          NaN  \n",
       "4          NaN  \n",
       "\n",
       "[5 rows x 26 columns]"
      ]
     },
     "execution_count": 110,
     "metadata": {},
     "output_type": "execute_result"
    }
   ],
   "source": [
    "dataset.head() #shows the first five rows"
   ]
  },
  {
   "cell_type": "markdown",
   "id": "df8d5b8b",
   "metadata": {},
   "source": [
    "### Verifying it as a 'dataframe' object in pandas"
   ]
  },
  {
   "cell_type": "code",
   "execution_count": 111,
   "id": "d735432b",
   "metadata": {},
   "outputs": [
    {
     "data": {
      "text/plain": [
       "pandas.core.frame.DataFrame"
      ]
     },
     "execution_count": 111,
     "metadata": {},
     "output_type": "execute_result"
    }
   ],
   "source": [
    "type(dataset)"
   ]
  },
  {
   "cell_type": "markdown",
   "id": "9fe58b53",
   "metadata": {},
   "source": [
    "Shape of dataset"
   ]
  },
  {
   "cell_type": "code",
   "execution_count": 112,
   "id": "f8102a59",
   "metadata": {},
   "outputs": [
    {
     "data": {
      "text/plain": [
       "(209, 26)"
      ]
     },
     "execution_count": 112,
     "metadata": {},
     "output_type": "execute_result"
    }
   ],
   "source": [
    "dataset.shape"
   ]
  },
  {
   "cell_type": "code",
   "execution_count": 113,
   "id": "f128fd69",
   "metadata": {},
   "outputs": [],
   "source": [
    "dataset=dataset.iloc[:,0:7]"
   ]
  },
  {
   "cell_type": "markdown",
   "id": "3b446276",
   "metadata": {},
   "source": [
    "Printing out a header columns"
   ]
  },
  {
   "cell_type": "code",
   "execution_count": 114,
   "id": "07c6f550",
   "metadata": {},
   "outputs": [
    {
     "data": {
      "text/html": [
       "<div>\n",
       "<style scoped>\n",
       "    .dataframe tbody tr th:only-of-type {\n",
       "        vertical-align: middle;\n",
       "    }\n",
       "\n",
       "    .dataframe tbody tr th {\n",
       "        vertical-align: top;\n",
       "    }\n",
       "\n",
       "    .dataframe thead th {\n",
       "        text-align: right;\n",
       "    }\n",
       "</style>\n",
       "<table border=\"1\" class=\"dataframe\">\n",
       "  <thead>\n",
       "    <tr style=\"text-align: right;\">\n",
       "      <th></th>\n",
       "      <th>MYCT</th>\n",
       "      <th>MMIN</th>\n",
       "      <th>MMAX</th>\n",
       "      <th>CACH</th>\n",
       "      <th>CHMIN</th>\n",
       "      <th>CHMAX</th>\n",
       "      <th>PRP</th>\n",
       "    </tr>\n",
       "  </thead>\n",
       "  <tbody>\n",
       "    <tr>\n",
       "      <th>0</th>\n",
       "      <td>125</td>\n",
       "      <td>256</td>\n",
       "      <td>6000</td>\n",
       "      <td>256</td>\n",
       "      <td>16</td>\n",
       "      <td>128</td>\n",
       "      <td>198</td>\n",
       "    </tr>\n",
       "    <tr>\n",
       "      <th>1</th>\n",
       "      <td>29</td>\n",
       "      <td>8000</td>\n",
       "      <td>32000</td>\n",
       "      <td>32</td>\n",
       "      <td>8</td>\n",
       "      <td>32</td>\n",
       "      <td>269</td>\n",
       "    </tr>\n",
       "    <tr>\n",
       "      <th>2</th>\n",
       "      <td>29</td>\n",
       "      <td>8000</td>\n",
       "      <td>32000</td>\n",
       "      <td>32</td>\n",
       "      <td>8</td>\n",
       "      <td>32</td>\n",
       "      <td>220</td>\n",
       "    </tr>\n",
       "    <tr>\n",
       "      <th>3</th>\n",
       "      <td>29</td>\n",
       "      <td>8000</td>\n",
       "      <td>32000</td>\n",
       "      <td>32</td>\n",
       "      <td>8</td>\n",
       "      <td>32</td>\n",
       "      <td>172</td>\n",
       "    </tr>\n",
       "    <tr>\n",
       "      <th>4</th>\n",
       "      <td>29</td>\n",
       "      <td>8000</td>\n",
       "      <td>16000</td>\n",
       "      <td>32</td>\n",
       "      <td>8</td>\n",
       "      <td>16</td>\n",
       "      <td>132</td>\n",
       "    </tr>\n",
       "  </tbody>\n",
       "</table>\n",
       "</div>"
      ],
      "text/plain": [
       "   MYCT  MMIN   MMAX  CACH  CHMIN  CHMAX  PRP\n",
       "0   125   256   6000   256     16    128  198\n",
       "1    29  8000  32000    32      8     32  269\n",
       "2    29  8000  32000    32      8     32  220\n",
       "3    29  8000  32000    32      8     32  172\n",
       "4    29  8000  16000    32      8     16  132"
      ]
     },
     "execution_count": 114,
     "metadata": {},
     "output_type": "execute_result"
    }
   ],
   "source": [
    "dataset.head(5)"
   ]
  },
  {
   "cell_type": "code",
   "execution_count": 115,
   "id": "c23440fb",
   "metadata": {},
   "outputs": [
    {
     "data": {
      "text/html": [
       "<div>\n",
       "<style scoped>\n",
       "    .dataframe tbody tr th:only-of-type {\n",
       "        vertical-align: middle;\n",
       "    }\n",
       "\n",
       "    .dataframe tbody tr th {\n",
       "        vertical-align: top;\n",
       "    }\n",
       "\n",
       "    .dataframe thead th {\n",
       "        text-align: right;\n",
       "    }\n",
       "</style>\n",
       "<table border=\"1\" class=\"dataframe\">\n",
       "  <thead>\n",
       "    <tr style=\"text-align: right;\">\n",
       "      <th></th>\n",
       "      <th>MYCT</th>\n",
       "      <th>MMIN</th>\n",
       "      <th>MMAX</th>\n",
       "      <th>CACH</th>\n",
       "      <th>CHMIN</th>\n",
       "      <th>CHMAX</th>\n",
       "      <th>PRP</th>\n",
       "    </tr>\n",
       "  </thead>\n",
       "  <tbody>\n",
       "    <tr>\n",
       "      <th>118</th>\n",
       "      <td>25</td>\n",
       "      <td>2000</td>\n",
       "      <td>12000</td>\n",
       "      <td>8</td>\n",
       "      <td>1</td>\n",
       "      <td>4</td>\n",
       "      <td>49</td>\n",
       "    </tr>\n",
       "    <tr>\n",
       "      <th>80</th>\n",
       "      <td>330</td>\n",
       "      <td>1000</td>\n",
       "      <td>3000</td>\n",
       "      <td>0</td>\n",
       "      <td>2</td>\n",
       "      <td>4</td>\n",
       "      <td>16</td>\n",
       "    </tr>\n",
       "    <tr>\n",
       "      <th>63</th>\n",
       "      <td>75</td>\n",
       "      <td>2000</td>\n",
       "      <td>8000</td>\n",
       "      <td>64</td>\n",
       "      <td>1</td>\n",
       "      <td>38</td>\n",
       "      <td>144</td>\n",
       "    </tr>\n",
       "    <tr>\n",
       "      <th>18</th>\n",
       "      <td>143</td>\n",
       "      <td>1000</td>\n",
       "      <td>2000</td>\n",
       "      <td>0</td>\n",
       "      <td>5</td>\n",
       "      <td>16</td>\n",
       "      <td>31</td>\n",
       "    </tr>\n",
       "    <tr>\n",
       "      <th>159</th>\n",
       "      <td>56</td>\n",
       "      <td>1000</td>\n",
       "      <td>4000</td>\n",
       "      <td>0</td>\n",
       "      <td>1</td>\n",
       "      <td>6</td>\n",
       "      <td>17</td>\n",
       "    </tr>\n",
       "  </tbody>\n",
       "</table>\n",
       "</div>"
      ],
      "text/plain": [
       "     MYCT  MMIN   MMAX  CACH  CHMIN  CHMAX  PRP\n",
       "118    25  2000  12000     8      1      4   49\n",
       "80    330  1000   3000     0      2      4   16\n",
       "63     75  2000   8000    64      1     38  144\n",
       "18    143  1000   2000     0      5     16   31\n",
       "159    56  1000   4000     0      1      6   17"
      ]
     },
     "execution_count": 115,
     "metadata": {},
     "output_type": "execute_result"
    }
   ],
   "source": [
    "dataset.sample(5)"
   ]
  },
  {
   "cell_type": "code",
   "execution_count": 116,
   "id": "670654e4",
   "metadata": {},
   "outputs": [
    {
     "data": {
      "text/html": [
       "<div>\n",
       "<style scoped>\n",
       "    .dataframe tbody tr th:only-of-type {\n",
       "        vertical-align: middle;\n",
       "    }\n",
       "\n",
       "    .dataframe tbody tr th {\n",
       "        vertical-align: top;\n",
       "    }\n",
       "\n",
       "    .dataframe thead th {\n",
       "        text-align: right;\n",
       "    }\n",
       "</style>\n",
       "<table border=\"1\" class=\"dataframe\">\n",
       "  <thead>\n",
       "    <tr style=\"text-align: right;\">\n",
       "      <th></th>\n",
       "      <th>MYCT</th>\n",
       "      <th>MMIN</th>\n",
       "      <th>MMAX</th>\n",
       "      <th>CACH</th>\n",
       "      <th>CHMIN</th>\n",
       "      <th>CHMAX</th>\n",
       "      <th>PRP</th>\n",
       "    </tr>\n",
       "  </thead>\n",
       "  <tbody>\n",
       "    <tr>\n",
       "      <th>204</th>\n",
       "      <td>124</td>\n",
       "      <td>1000</td>\n",
       "      <td>8000</td>\n",
       "      <td>0</td>\n",
       "      <td>1</td>\n",
       "      <td>8</td>\n",
       "      <td>42</td>\n",
       "    </tr>\n",
       "    <tr>\n",
       "      <th>205</th>\n",
       "      <td>98</td>\n",
       "      <td>1000</td>\n",
       "      <td>8000</td>\n",
       "      <td>32</td>\n",
       "      <td>2</td>\n",
       "      <td>8</td>\n",
       "      <td>46</td>\n",
       "    </tr>\n",
       "    <tr>\n",
       "      <th>206</th>\n",
       "      <td>125</td>\n",
       "      <td>2000</td>\n",
       "      <td>8000</td>\n",
       "      <td>0</td>\n",
       "      <td>2</td>\n",
       "      <td>14</td>\n",
       "      <td>52</td>\n",
       "    </tr>\n",
       "    <tr>\n",
       "      <th>207</th>\n",
       "      <td>480</td>\n",
       "      <td>512</td>\n",
       "      <td>8000</td>\n",
       "      <td>32</td>\n",
       "      <td>0</td>\n",
       "      <td>0</td>\n",
       "      <td>67</td>\n",
       "    </tr>\n",
       "    <tr>\n",
       "      <th>208</th>\n",
       "      <td>480</td>\n",
       "      <td>1000</td>\n",
       "      <td>4000</td>\n",
       "      <td>0</td>\n",
       "      <td>0</td>\n",
       "      <td>0</td>\n",
       "      <td>45</td>\n",
       "    </tr>\n",
       "  </tbody>\n",
       "</table>\n",
       "</div>"
      ],
      "text/plain": [
       "     MYCT  MMIN  MMAX  CACH  CHMIN  CHMAX  PRP\n",
       "204   124  1000  8000     0      1      8   42\n",
       "205    98  1000  8000    32      2      8   46\n",
       "206   125  2000  8000     0      2     14   52\n",
       "207   480   512  8000    32      0      0   67\n",
       "208   480  1000  4000     0      0      0   45"
      ]
     },
     "execution_count": 116,
     "metadata": {},
     "output_type": "execute_result"
    }
   ],
   "source": [
    "dataset.tail() #shows last five rows"
   ]
  },
  {
   "cell_type": "code",
   "execution_count": 117,
   "id": "a7f3080a",
   "metadata": {},
   "outputs": [
    {
     "data": {
      "text/html": [
       "<div>\n",
       "<style scoped>\n",
       "    .dataframe tbody tr th:only-of-type {\n",
       "        vertical-align: middle;\n",
       "    }\n",
       "\n",
       "    .dataframe tbody tr th {\n",
       "        vertical-align: top;\n",
       "    }\n",
       "\n",
       "    .dataframe thead th {\n",
       "        text-align: right;\n",
       "    }\n",
       "</style>\n",
       "<table border=\"1\" class=\"dataframe\">\n",
       "  <thead>\n",
       "    <tr style=\"text-align: right;\">\n",
       "      <th></th>\n",
       "      <th>MYCT</th>\n",
       "      <th>MMIN</th>\n",
       "      <th>MMAX</th>\n",
       "      <th>CACH</th>\n",
       "      <th>CHMIN</th>\n",
       "      <th>CHMAX</th>\n",
       "      <th>PRP</th>\n",
       "    </tr>\n",
       "  </thead>\n",
       "  <tbody>\n",
       "    <tr>\n",
       "      <th>count</th>\n",
       "      <td>209.000000</td>\n",
       "      <td>209.000000</td>\n",
       "      <td>209.000000</td>\n",
       "      <td>209.000000</td>\n",
       "      <td>209.000000</td>\n",
       "      <td>209.000000</td>\n",
       "      <td>209.000000</td>\n",
       "    </tr>\n",
       "    <tr>\n",
       "      <th>mean</th>\n",
       "      <td>203.822967</td>\n",
       "      <td>2867.980861</td>\n",
       "      <td>11796.153110</td>\n",
       "      <td>25.205742</td>\n",
       "      <td>4.698565</td>\n",
       "      <td>18.267943</td>\n",
       "      <td>105.622010</td>\n",
       "    </tr>\n",
       "    <tr>\n",
       "      <th>std</th>\n",
       "      <td>260.262926</td>\n",
       "      <td>3878.742758</td>\n",
       "      <td>11726.564377</td>\n",
       "      <td>40.628722</td>\n",
       "      <td>6.816274</td>\n",
       "      <td>25.997318</td>\n",
       "      <td>160.830733</td>\n",
       "    </tr>\n",
       "    <tr>\n",
       "      <th>min</th>\n",
       "      <td>17.000000</td>\n",
       "      <td>64.000000</td>\n",
       "      <td>64.000000</td>\n",
       "      <td>0.000000</td>\n",
       "      <td>0.000000</td>\n",
       "      <td>0.000000</td>\n",
       "      <td>6.000000</td>\n",
       "    </tr>\n",
       "    <tr>\n",
       "      <th>25%</th>\n",
       "      <td>50.000000</td>\n",
       "      <td>768.000000</td>\n",
       "      <td>4000.000000</td>\n",
       "      <td>0.000000</td>\n",
       "      <td>1.000000</td>\n",
       "      <td>5.000000</td>\n",
       "      <td>27.000000</td>\n",
       "    </tr>\n",
       "    <tr>\n",
       "      <th>50%</th>\n",
       "      <td>110.000000</td>\n",
       "      <td>2000.000000</td>\n",
       "      <td>8000.000000</td>\n",
       "      <td>8.000000</td>\n",
       "      <td>2.000000</td>\n",
       "      <td>8.000000</td>\n",
       "      <td>50.000000</td>\n",
       "    </tr>\n",
       "    <tr>\n",
       "      <th>75%</th>\n",
       "      <td>225.000000</td>\n",
       "      <td>4000.000000</td>\n",
       "      <td>16000.000000</td>\n",
       "      <td>32.000000</td>\n",
       "      <td>6.000000</td>\n",
       "      <td>24.000000</td>\n",
       "      <td>113.000000</td>\n",
       "    </tr>\n",
       "    <tr>\n",
       "      <th>max</th>\n",
       "      <td>1500.000000</td>\n",
       "      <td>32000.000000</td>\n",
       "      <td>64000.000000</td>\n",
       "      <td>256.000000</td>\n",
       "      <td>52.000000</td>\n",
       "      <td>176.000000</td>\n",
       "      <td>1150.000000</td>\n",
       "    </tr>\n",
       "  </tbody>\n",
       "</table>\n",
       "</div>"
      ],
      "text/plain": [
       "              MYCT          MMIN          MMAX        CACH       CHMIN  \\\n",
       "count   209.000000    209.000000    209.000000  209.000000  209.000000   \n",
       "mean    203.822967   2867.980861  11796.153110   25.205742    4.698565   \n",
       "std     260.262926   3878.742758  11726.564377   40.628722    6.816274   \n",
       "min      17.000000     64.000000     64.000000    0.000000    0.000000   \n",
       "25%      50.000000    768.000000   4000.000000    0.000000    1.000000   \n",
       "50%     110.000000   2000.000000   8000.000000    8.000000    2.000000   \n",
       "75%     225.000000   4000.000000  16000.000000   32.000000    6.000000   \n",
       "max    1500.000000  32000.000000  64000.000000  256.000000   52.000000   \n",
       "\n",
       "            CHMAX          PRP  \n",
       "count  209.000000   209.000000  \n",
       "mean    18.267943   105.622010  \n",
       "std     25.997318   160.830733  \n",
       "min      0.000000     6.000000  \n",
       "25%      5.000000    27.000000  \n",
       "50%      8.000000    50.000000  \n",
       "75%     24.000000   113.000000  \n",
       "max    176.000000  1150.000000  "
      ]
     },
     "execution_count": 117,
     "metadata": {},
     "output_type": "execute_result"
    }
   ],
   "source": [
    "dataset.describe()"
   ]
  },
  {
   "cell_type": "code",
   "execution_count": 118,
   "id": "fdd21443",
   "metadata": {},
   "outputs": [
    {
     "name": "stdout",
     "output_type": "stream",
     "text": [
      "<class 'pandas.core.frame.DataFrame'>\n",
      "RangeIndex: 209 entries, 0 to 208\n",
      "Data columns (total 7 columns):\n",
      " #   Column  Non-Null Count  Dtype\n",
      "---  ------  --------------  -----\n",
      " 0   MYCT    209 non-null    int64\n",
      " 1   MMIN    209 non-null    int64\n",
      " 2   MMAX    209 non-null    int64\n",
      " 3   CACH    209 non-null    int64\n",
      " 4   CHMIN   209 non-null    int64\n",
      " 5   CHMAX   209 non-null    int64\n",
      " 6   PRP     209 non-null    int64\n",
      "dtypes: int64(7)\n",
      "memory usage: 11.6 KB\n"
     ]
    }
   ],
   "source": [
    "dataset.info()"
   ]
  },
  {
   "cell_type": "markdown",
   "id": "627d5884",
   "metadata": {},
   "source": [
    "From the above we can see that there are 7 columns where are int\n"
   ]
  },
  {
   "cell_type": "code",
   "execution_count": 119,
   "id": "82122f53",
   "metadata": {},
   "outputs": [
    {
     "data": {
      "text/html": [
       "<div>\n",
       "<style scoped>\n",
       "    .dataframe tbody tr th:only-of-type {\n",
       "        vertical-align: middle;\n",
       "    }\n",
       "\n",
       "    .dataframe tbody tr th {\n",
       "        vertical-align: top;\n",
       "    }\n",
       "\n",
       "    .dataframe thead th {\n",
       "        text-align: right;\n",
       "    }\n",
       "</style>\n",
       "<table border=\"1\" class=\"dataframe\">\n",
       "  <thead>\n",
       "    <tr style=\"text-align: right;\">\n",
       "      <th></th>\n",
       "      <th>Variable</th>\n",
       "      <th>Levels</th>\n",
       "      <th>Datatype</th>\n",
       "    </tr>\n",
       "  </thead>\n",
       "  <tbody>\n",
       "    <tr>\n",
       "      <th>4</th>\n",
       "      <td>CHMIN</td>\n",
       "      <td>15</td>\n",
       "      <td>int64</td>\n",
       "    </tr>\n",
       "    <tr>\n",
       "      <th>3</th>\n",
       "      <td>CACH</td>\n",
       "      <td>22</td>\n",
       "      <td>int64</td>\n",
       "    </tr>\n",
       "    <tr>\n",
       "      <th>2</th>\n",
       "      <td>MMAX</td>\n",
       "      <td>23</td>\n",
       "      <td>int64</td>\n",
       "    </tr>\n",
       "    <tr>\n",
       "      <th>1</th>\n",
       "      <td>MMIN</td>\n",
       "      <td>25</td>\n",
       "      <td>int64</td>\n",
       "    </tr>\n",
       "    <tr>\n",
       "      <th>5</th>\n",
       "      <td>CHMAX</td>\n",
       "      <td>31</td>\n",
       "      <td>int64</td>\n",
       "    </tr>\n",
       "    <tr>\n",
       "      <th>0</th>\n",
       "      <td>MYCT</td>\n",
       "      <td>60</td>\n",
       "      <td>int64</td>\n",
       "    </tr>\n",
       "    <tr>\n",
       "      <th>6</th>\n",
       "      <td>PRP</td>\n",
       "      <td>116</td>\n",
       "      <td>int64</td>\n",
       "    </tr>\n",
       "  </tbody>\n",
       "</table>\n",
       "</div>"
      ],
      "text/plain": [
       "  Variable  Levels Datatype\n",
       "4    CHMIN      15    int64\n",
       "3     CACH      22    int64\n",
       "2     MMAX      23    int64\n",
       "1     MMIN      25    int64\n",
       "5    CHMAX      31    int64\n",
       "0     MYCT      60    int64\n",
       "6      PRP     116    int64"
      ]
     },
     "execution_count": 119,
     "metadata": {},
     "output_type": "execute_result"
    }
   ],
   "source": [
    "def describe_more(df):\n",
    "    var = [];\n",
    "    l = [];\n",
    "    t = []\n",
    "    for x in df:\n",
    "        var.append(x)\n",
    "        l.append(len(pd.value_counts(df[x])))\n",
    "        t.append(df[x].dtypes)\n",
    "    levels = pd.DataFrame({'Variable': var, 'Levels': l, 'Datatype': t})\n",
    "    levels.sort_values(by='Levels', inplace=True)\n",
    "    return levels\n",
    "\n",
    "describe_more(dataset)"
   ]
  },
  {
   "cell_type": "code",
   "execution_count": 120,
   "id": "7ded4f18",
   "metadata": {},
   "outputs": [
    {
     "data": {
      "text/html": [
       "<div>\n",
       "<style scoped>\n",
       "    .dataframe tbody tr th:only-of-type {\n",
       "        vertical-align: middle;\n",
       "    }\n",
       "\n",
       "    .dataframe tbody tr th {\n",
       "        vertical-align: top;\n",
       "    }\n",
       "\n",
       "    .dataframe thead th {\n",
       "        text-align: right;\n",
       "    }\n",
       "</style>\n",
       "<table border=\"1\" class=\"dataframe\">\n",
       "  <thead>\n",
       "    <tr style=\"text-align: right;\">\n",
       "      <th></th>\n",
       "      <th>MYCT</th>\n",
       "      <th>MMIN</th>\n",
       "      <th>MMAX</th>\n",
       "      <th>CACH</th>\n",
       "      <th>CHMIN</th>\n",
       "      <th>CHMAX</th>\n",
       "      <th>PRP</th>\n",
       "    </tr>\n",
       "  </thead>\n",
       "  <tbody>\n",
       "    <tr>\n",
       "      <th>MYCT</th>\n",
       "      <td>1.000000</td>\n",
       "      <td>-0.335642</td>\n",
       "      <td>-0.378561</td>\n",
       "      <td>-0.321000</td>\n",
       "      <td>-0.301090</td>\n",
       "      <td>-0.250502</td>\n",
       "      <td>-0.307099</td>\n",
       "    </tr>\n",
       "    <tr>\n",
       "      <th>MMIN</th>\n",
       "      <td>-0.335642</td>\n",
       "      <td>1.000000</td>\n",
       "      <td>0.758157</td>\n",
       "      <td>0.534729</td>\n",
       "      <td>0.517189</td>\n",
       "      <td>0.266907</td>\n",
       "      <td>0.794931</td>\n",
       "    </tr>\n",
       "    <tr>\n",
       "      <th>MMAX</th>\n",
       "      <td>-0.378561</td>\n",
       "      <td>0.758157</td>\n",
       "      <td>1.000000</td>\n",
       "      <td>0.537990</td>\n",
       "      <td>0.560513</td>\n",
       "      <td>0.527246</td>\n",
       "      <td>0.863004</td>\n",
       "    </tr>\n",
       "    <tr>\n",
       "      <th>CACH</th>\n",
       "      <td>-0.321000</td>\n",
       "      <td>0.534729</td>\n",
       "      <td>0.537990</td>\n",
       "      <td>1.000000</td>\n",
       "      <td>0.582245</td>\n",
       "      <td>0.487846</td>\n",
       "      <td>0.662641</td>\n",
       "    </tr>\n",
       "    <tr>\n",
       "      <th>CHMIN</th>\n",
       "      <td>-0.301090</td>\n",
       "      <td>0.517189</td>\n",
       "      <td>0.560513</td>\n",
       "      <td>0.582245</td>\n",
       "      <td>1.000000</td>\n",
       "      <td>0.548281</td>\n",
       "      <td>0.608903</td>\n",
       "    </tr>\n",
       "    <tr>\n",
       "      <th>CHMAX</th>\n",
       "      <td>-0.250502</td>\n",
       "      <td>0.266907</td>\n",
       "      <td>0.527246</td>\n",
       "      <td>0.487846</td>\n",
       "      <td>0.548281</td>\n",
       "      <td>1.000000</td>\n",
       "      <td>0.605209</td>\n",
       "    </tr>\n",
       "    <tr>\n",
       "      <th>PRP</th>\n",
       "      <td>-0.307099</td>\n",
       "      <td>0.794931</td>\n",
       "      <td>0.863004</td>\n",
       "      <td>0.662641</td>\n",
       "      <td>0.608903</td>\n",
       "      <td>0.605209</td>\n",
       "      <td>1.000000</td>\n",
       "    </tr>\n",
       "  </tbody>\n",
       "</table>\n",
       "</div>"
      ],
      "text/plain": [
       "           MYCT      MMIN      MMAX      CACH     CHMIN     CHMAX       PRP\n",
       "MYCT   1.000000 -0.335642 -0.378561 -0.321000 -0.301090 -0.250502 -0.307099\n",
       "MMIN  -0.335642  1.000000  0.758157  0.534729  0.517189  0.266907  0.794931\n",
       "MMAX  -0.378561  0.758157  1.000000  0.537990  0.560513  0.527246  0.863004\n",
       "CACH  -0.321000  0.534729  0.537990  1.000000  0.582245  0.487846  0.662641\n",
       "CHMIN -0.301090  0.517189  0.560513  0.582245  1.000000  0.548281  0.608903\n",
       "CHMAX -0.250502  0.266907  0.527246  0.487846  0.548281  1.000000  0.605209\n",
       "PRP   -0.307099  0.794931  0.863004  0.662641  0.608903  0.605209  1.000000"
      ]
     },
     "execution_count": 120,
     "metadata": {},
     "output_type": "execute_result"
    }
   ],
   "source": [
    "dataset.corr() #Correlation matrix to see the tentative dependencies between columns"
   ]
  },
  {
   "cell_type": "code",
   "execution_count": 121,
   "id": "18bc634b",
   "metadata": {},
   "outputs": [
    {
     "data": {
      "text/plain": [
       "MYCT     2.544153\n",
       "MMIN     3.515933\n",
       "MMAX     2.140663\n",
       "CACH     2.824777\n",
       "CHMIN    4.027333\n",
       "CHMAX    3.595905\n",
       "PRP      3.892814\n",
       "dtype: float64"
      ]
     },
     "execution_count": 121,
     "metadata": {},
     "output_type": "execute_result"
    }
   ],
   "source": [
    "dataset[['MYCT','MMIN','MMAX','CACH','CHMIN','CHMAX','PRP']].skew()"
   ]
  },
  {
   "cell_type": "code",
   "execution_count": 122,
   "id": "5d7d8a33",
   "metadata": {},
   "outputs": [
    {
     "data": {
      "text/plain": [
       "MYCT      7.062767\n",
       "MMIN     17.613275\n",
       "MMAX      5.902471\n",
       "CACH     10.278384\n",
       "CHMIN    22.468899\n",
       "CHMAX    15.888081\n",
       "PRP      19.252187\n",
       "dtype: float64"
      ]
     },
     "execution_count": 122,
     "metadata": {},
     "output_type": "execute_result"
    }
   ],
   "source": [
    "dataset[['MYCT','MMIN','MMAX','CACH','CHMIN','CHMAX','PRP']].kurtosis()"
   ]
  },
  {
   "cell_type": "markdown",
   "id": "774942e2",
   "metadata": {},
   "source": [
    "We can see that the dataset is highly Skewed, an optimal value for skewness should be -0.5 to 0.5 for a normalised data.\n",
    "Inorder to unskew the data, there are various methods followed and one of the popular method is taking natural log.\n",
    "\n",
    "Before we take log tarnsaformation to treat the skewness we need to check if we have any negative or zero values, if we have then we can add a constant to it then we can take log transaformation."
   ]
  },
  {
   "cell_type": "code",
   "execution_count": 123,
   "id": "b6a01719",
   "metadata": {},
   "outputs": [
    {
     "data": {
      "text/plain": [
       "MYCT      0\n",
       "MMIN      0\n",
       "MMAX      0\n",
       "CACH     69\n",
       "CHMIN     5\n",
       "CHMAX     5\n",
       "PRP       0\n",
       "dtype: int64"
      ]
     },
     "execution_count": 123,
     "metadata": {},
     "output_type": "execute_result"
    }
   ],
   "source": [
    "(dataset.loc[:,'MYCT':'PRP']).apply(lambda column: (column<= 0).sum()) \n",
    "#Checking for '0' values"
   ]
  },
  {
   "cell_type": "markdown",
   "id": "f39707df",
   "metadata": {},
   "source": [
    "Here we can see CACH,CHMIN,CHMAX columns has <=0 values so we can add constant to it then take log i.e log(x+1)\n",
    "\n",
    "Before that, exploring Rows where CACH = 0, Because 69 rows containg zero is very high since our total number of rows = 209, that is here we can see 33% of the rows are '0' for CACH."
   ]
  },
  {
   "cell_type": "code",
   "execution_count": 124,
   "id": "a1719e62",
   "metadata": {},
   "outputs": [],
   "source": [
    "Cach_zero_rows = dataset.loc[dataset['CACH']== 0]"
   ]
  },
  {
   "cell_type": "code",
   "execution_count": 125,
   "id": "9cf6209a",
   "metadata": {},
   "outputs": [
    {
     "data": {
      "text/html": [
       "<div>\n",
       "<style scoped>\n",
       "    .dataframe tbody tr th:only-of-type {\n",
       "        vertical-align: middle;\n",
       "    }\n",
       "\n",
       "    .dataframe tbody tr th {\n",
       "        vertical-align: top;\n",
       "    }\n",
       "\n",
       "    .dataframe thead th {\n",
       "        text-align: right;\n",
       "    }\n",
       "</style>\n",
       "<table border=\"1\" class=\"dataframe\">\n",
       "  <thead>\n",
       "    <tr style=\"text-align: right;\">\n",
       "      <th></th>\n",
       "      <th>MYCT</th>\n",
       "      <th>MMIN</th>\n",
       "      <th>MMAX</th>\n",
       "      <th>CACH</th>\n",
       "      <th>CHMIN</th>\n",
       "      <th>CHMAX</th>\n",
       "      <th>PRP</th>\n",
       "    </tr>\n",
       "  </thead>\n",
       "  <tbody>\n",
       "    <tr>\n",
       "      <th>10</th>\n",
       "      <td>400</td>\n",
       "      <td>1000</td>\n",
       "      <td>3000</td>\n",
       "      <td>0</td>\n",
       "      <td>1</td>\n",
       "      <td>2</td>\n",
       "      <td>38</td>\n",
       "    </tr>\n",
       "    <tr>\n",
       "      <th>14</th>\n",
       "      <td>350</td>\n",
       "      <td>64</td>\n",
       "      <td>64</td>\n",
       "      <td>0</td>\n",
       "      <td>1</td>\n",
       "      <td>4</td>\n",
       "      <td>10</td>\n",
       "    </tr>\n",
       "    <tr>\n",
       "      <th>15</th>\n",
       "      <td>200</td>\n",
       "      <td>512</td>\n",
       "      <td>16000</td>\n",
       "      <td>0</td>\n",
       "      <td>4</td>\n",
       "      <td>32</td>\n",
       "      <td>35</td>\n",
       "    </tr>\n",
       "    <tr>\n",
       "      <th>17</th>\n",
       "      <td>143</td>\n",
       "      <td>512</td>\n",
       "      <td>5000</td>\n",
       "      <td>0</td>\n",
       "      <td>7</td>\n",
       "      <td>32</td>\n",
       "      <td>28</td>\n",
       "    </tr>\n",
       "    <tr>\n",
       "      <th>18</th>\n",
       "      <td>143</td>\n",
       "      <td>1000</td>\n",
       "      <td>2000</td>\n",
       "      <td>0</td>\n",
       "      <td>5</td>\n",
       "      <td>16</td>\n",
       "      <td>31</td>\n",
       "    </tr>\n",
       "  </tbody>\n",
       "</table>\n",
       "</div>"
      ],
      "text/plain": [
       "    MYCT  MMIN   MMAX  CACH  CHMIN  CHMAX  PRP\n",
       "10   400  1000   3000     0      1      2   38\n",
       "14   350    64     64     0      1      4   10\n",
       "15   200   512  16000     0      4     32   35\n",
       "17   143   512   5000     0      7     32   28\n",
       "18   143  1000   2000     0      5     16   31"
      ]
     },
     "execution_count": 125,
     "metadata": {},
     "output_type": "execute_result"
    }
   ],
   "source": [
    "#Confirming the CACH == 0\n",
    "Cach_zero_rows.head()"
   ]
  },
  {
   "cell_type": "code",
   "execution_count": 126,
   "id": "7f64a56d",
   "metadata": {},
   "outputs": [
    {
     "data": {
      "image/png": "[encoded data removed]",
      "text/plain": [
       "<Figure size 864x720 with 2 Axes>"
      ]
     },
     "metadata": {},
     "output_type": "display_data"
    }
   ],
   "source": [
    "def plot_correlation_map(df):\n",
    "    corr = dataset.corr()\n",
    "    _ , ax = plt.subplots( figsize =( 12 , 10 ) )\n",
    "    cmap = sns.diverging_palette( 220 , 10 , as_cmap = True )\n",
    "    _ = sns.heatmap(\n",
    "        corr,\n",
    "        cmap = cmap,\n",
    "        square=True,\n",
    "        cbar_kws={ 'shrink' : .9 },\n",
    "        ax=ax,\n",
    "        annot = True,\n",
    "        annot_kws = { 'fontsize' : 12 }\n",
    "    )\n",
    "\n",
    "    \n",
    "#Corr plot for data to compare with the above\n",
    "plot_correlation_map(dataset.loc[dataset['CACH']!= 0])"
   ]
  },
  {
   "cell_type": "markdown",
   "id": "23a67d11",
   "metadata": {},
   "source": [
    "From the above Corr plot we can see the Dependent variable has 61% to 86% of correlation with the independent variables.\n",
    "Note: 'correlation doesn't imply causation'\n",
    "\n",
    "\n",
    "Now coming back to log transformation, adding constant '1' to the columns where it comtains values equal to '0'"
   ]
  },
  {
   "cell_type": "code",
   "execution_count": 127,
   "id": "2e7793f6",
   "metadata": {},
   "outputs": [],
   "source": [
    "dataset['CACH'] = dataset['CACH']+1\n",
    "dataset['CHMIN'] = dataset['CHMIN']+1\n",
    "dataset['CHMAX'] = dataset['CHMAX'] +1"
   ]
  },
  {
   "cell_type": "code",
   "execution_count": 128,
   "id": "d440c5f5",
   "metadata": {},
   "outputs": [
    {
     "data": {
      "text/plain": [
       "MYCT     0\n",
       "MMIN     0\n",
       "MMAX     0\n",
       "CACH     0\n",
       "CHMIN    0\n",
       "CHMAX    0\n",
       "PRP      0\n",
       "dtype: int64"
      ]
     },
     "execution_count": 128,
     "metadata": {},
     "output_type": "execute_result"
    }
   ],
   "source": [
    "(dataset[['MYCT','MMIN','MMAX','CACH','CHMIN','CHMAX','PRP']]).apply(lambda column: (column<= 0).sum())"
   ]
  },
  {
   "cell_type": "markdown",
   "id": "310e29e9",
   "metadata": {},
   "source": [
    "Here we can see that now there aren't and <= 0 values in any columns, so now we can proceed with teh log transformation."
   ]
  },
  {
   "cell_type": "code",
   "execution_count": 129,
   "id": "026383ad",
   "metadata": {},
   "outputs": [],
   "source": [
    "data_log = np.log(dataset[['MYCT','MMIN','MMAX','CACH','CHMIN','CHMAX','PRP']])"
   ]
  },
  {
   "cell_type": "code",
   "execution_count": 130,
   "id": "87fa23a7",
   "metadata": {},
   "outputs": [
    {
     "name": "stdout",
     "output_type": "stream",
     "text": [
      "Before Log Transformed\n"
     ]
    },
    {
     "data": {
      "text/html": [
       "<div>\n",
       "<style scoped>\n",
       "    .dataframe tbody tr th:only-of-type {\n",
       "        vertical-align: middle;\n",
       "    }\n",
       "\n",
       "    .dataframe tbody tr th {\n",
       "        vertical-align: top;\n",
       "    }\n",
       "\n",
       "    .dataframe thead th {\n",
       "        text-align: right;\n",
       "    }\n",
       "</style>\n",
       "<table border=\"1\" class=\"dataframe\">\n",
       "  <thead>\n",
       "    <tr style=\"text-align: right;\">\n",
       "      <th></th>\n",
       "      <th>MMAX</th>\n",
       "      <th>CACH</th>\n",
       "      <th>CHMIN</th>\n",
       "      <th>CHMAX</th>\n",
       "      <th>PRP</th>\n",
       "    </tr>\n",
       "  </thead>\n",
       "  <tbody>\n",
       "    <tr>\n",
       "      <th>0</th>\n",
       "      <td>6000</td>\n",
       "      <td>257</td>\n",
       "      <td>17</td>\n",
       "      <td>129</td>\n",
       "      <td>198</td>\n",
       "    </tr>\n",
       "    <tr>\n",
       "      <th>1</th>\n",
       "      <td>32000</td>\n",
       "      <td>33</td>\n",
       "      <td>9</td>\n",
       "      <td>33</td>\n",
       "      <td>269</td>\n",
       "    </tr>\n",
       "    <tr>\n",
       "      <th>2</th>\n",
       "      <td>32000</td>\n",
       "      <td>33</td>\n",
       "      <td>9</td>\n",
       "      <td>33</td>\n",
       "      <td>220</td>\n",
       "    </tr>\n",
       "    <tr>\n",
       "      <th>3</th>\n",
       "      <td>32000</td>\n",
       "      <td>33</td>\n",
       "      <td>9</td>\n",
       "      <td>33</td>\n",
       "      <td>172</td>\n",
       "    </tr>\n",
       "    <tr>\n",
       "      <th>4</th>\n",
       "      <td>16000</td>\n",
       "      <td>33</td>\n",
       "      <td>9</td>\n",
       "      <td>17</td>\n",
       "      <td>132</td>\n",
       "    </tr>\n",
       "  </tbody>\n",
       "</table>\n",
       "</div>"
      ],
      "text/plain": [
       "    MMAX  CACH  CHMIN  CHMAX  PRP\n",
       "0   6000   257     17    129  198\n",
       "1  32000    33      9     33  269\n",
       "2  32000    33      9     33  220\n",
       "3  32000    33      9     33  172\n",
       "4  16000    33      9     17  132"
      ]
     },
     "execution_count": 130,
     "metadata": {},
     "output_type": "execute_result"
    }
   ],
   "source": [
    "print('Before Log Transformed')\n",
    "(dataset.iloc[:,2:].head(5))\n"
   ]
  },
  {
   "cell_type": "code",
   "execution_count": 131,
   "id": "66df27e6",
   "metadata": {},
   "outputs": [
    {
     "name": "stdout",
     "output_type": "stream",
     "text": [
      "After Log Transformed\n"
     ]
    },
    {
     "data": {
      "text/html": [
       "<div>\n",
       "<style scoped>\n",
       "    .dataframe tbody tr th:only-of-type {\n",
       "        vertical-align: middle;\n",
       "    }\n",
       "\n",
       "    .dataframe tbody tr th {\n",
       "        vertical-align: top;\n",
       "    }\n",
       "\n",
       "    .dataframe thead th {\n",
       "        text-align: right;\n",
       "    }\n",
       "</style>\n",
       "<table border=\"1\" class=\"dataframe\">\n",
       "  <thead>\n",
       "    <tr style=\"text-align: right;\">\n",
       "      <th></th>\n",
       "      <th>MYCT</th>\n",
       "      <th>MMIN</th>\n",
       "      <th>MMAX</th>\n",
       "      <th>CACH</th>\n",
       "      <th>CHMIN</th>\n",
       "      <th>CHMAX</th>\n",
       "      <th>PRP</th>\n",
       "    </tr>\n",
       "  </thead>\n",
       "  <tbody>\n",
       "    <tr>\n",
       "      <th>0</th>\n",
       "      <td>4.828314</td>\n",
       "      <td>5.545177</td>\n",
       "      <td>8.699515</td>\n",
       "      <td>5.549076</td>\n",
       "      <td>2.833213</td>\n",
       "      <td>4.859812</td>\n",
       "      <td>5.288267</td>\n",
       "    </tr>\n",
       "    <tr>\n",
       "      <th>1</th>\n",
       "      <td>3.367296</td>\n",
       "      <td>8.987197</td>\n",
       "      <td>10.373491</td>\n",
       "      <td>3.496508</td>\n",
       "      <td>2.197225</td>\n",
       "      <td>3.496508</td>\n",
       "      <td>5.594711</td>\n",
       "    </tr>\n",
       "    <tr>\n",
       "      <th>2</th>\n",
       "      <td>3.367296</td>\n",
       "      <td>8.987197</td>\n",
       "      <td>10.373491</td>\n",
       "      <td>3.496508</td>\n",
       "      <td>2.197225</td>\n",
       "      <td>3.496508</td>\n",
       "      <td>5.393628</td>\n",
       "    </tr>\n",
       "    <tr>\n",
       "      <th>3</th>\n",
       "      <td>3.367296</td>\n",
       "      <td>8.987197</td>\n",
       "      <td>10.373491</td>\n",
       "      <td>3.496508</td>\n",
       "      <td>2.197225</td>\n",
       "      <td>3.496508</td>\n",
       "      <td>5.147494</td>\n",
       "    </tr>\n",
       "    <tr>\n",
       "      <th>4</th>\n",
       "      <td>3.367296</td>\n",
       "      <td>8.987197</td>\n",
       "      <td>9.680344</td>\n",
       "      <td>3.496508</td>\n",
       "      <td>2.197225</td>\n",
       "      <td>2.833213</td>\n",
       "      <td>4.882802</td>\n",
       "    </tr>\n",
       "  </tbody>\n",
       "</table>\n",
       "</div>"
      ],
      "text/plain": [
       "       MYCT      MMIN       MMAX      CACH     CHMIN     CHMAX       PRP\n",
       "0  4.828314  5.545177   8.699515  5.549076  2.833213  4.859812  5.288267\n",
       "1  3.367296  8.987197  10.373491  3.496508  2.197225  3.496508  5.594711\n",
       "2  3.367296  8.987197  10.373491  3.496508  2.197225  3.496508  5.393628\n",
       "3  3.367296  8.987197  10.373491  3.496508  2.197225  3.496508  5.147494\n",
       "4  3.367296  8.987197   9.680344  3.496508  2.197225  2.833213  4.882802"
      ]
     },
     "execution_count": 131,
     "metadata": {},
     "output_type": "execute_result"
    }
   ],
   "source": [
    "print('After Log Transformed')\n",
    "(data_log.head())"
   ]
  },
  {
   "cell_type": "code",
   "execution_count": 132,
   "id": "3d087811",
   "metadata": {},
   "outputs": [
    {
     "data": {
      "text/plain": [
       "MYCT     0.397838\n",
       "MMIN     0.036612\n",
       "MMAX    -0.617669\n",
       "CACH     0.042585\n",
       "CHMIN    0.802618\n",
       "CHMAX    0.136018\n",
       "PRP      0.521715\n",
       "dtype: float64"
      ]
     },
     "execution_count": 132,
     "metadata": {},
     "output_type": "execute_result"
    }
   ],
   "source": [
    "data_log[['MYCT','MMIN','MMAX','CACH','CHMIN','CHMAX','PRP']].skew() #Checking skewness for the data_log"
   ]
  },
  {
   "cell_type": "code",
   "execution_count": 133,
   "id": "d2e1e351",
   "metadata": {},
   "outputs": [
    {
     "name": "stdout",
     "output_type": "stream",
     "text": [
      "mean :  MMAX     8.922222\n",
      "CACH     2.075453\n",
      "CHMIN    1.355234\n",
      "CHMAX    2.407778\n",
      "PRP      4.037242\n",
      "dtype: float64\n",
      "var  :  MMAX     1.060236\n",
      "CACH     2.900684\n",
      "CHMIN    0.645803\n",
      "CHMAX    1.068150\n",
      "PRP      1.093810\n",
      "dtype: float64\n",
      "skew :  MMAX    -0.617669\n",
      "CACH     0.042585\n",
      "CHMIN    0.802618\n",
      "CHMAX    0.136018\n",
      "PRP      0.521715\n",
      "dtype: float64\n",
      "kurt :  MMAX     1.487443\n",
      "CACH    -1.336633\n",
      "CHMIN   -0.004955\n",
      "CHMAX   -0.053167\n",
      "PRP     -0.034942\n",
      "dtype: float64\n"
     ]
    }
   ],
   "source": [
    "print(\"mean : \", np.mean(data_log[data_log.columns[2:]]))\n",
    "print(\"var  : \", np.var(data_log[data_log.columns[2:]]))\n",
    "print(\"skew : \",(data_log[data_log.columns[2:]]).skew())\n",
    "print(\"kurt : \",(data_log[data_log.columns[2:]]).kurtosis())"
   ]
  },
  {
   "cell_type": "code",
   "execution_count": 134,
   "id": "bb73675c",
   "metadata": {},
   "outputs": [
    {
     "data": {
      "text/html": [
       "<div>\n",
       "<style scoped>\n",
       "    .dataframe tbody tr th:only-of-type {\n",
       "        vertical-align: middle;\n",
       "    }\n",
       "\n",
       "    .dataframe tbody tr th {\n",
       "        vertical-align: top;\n",
       "    }\n",
       "\n",
       "    .dataframe thead th {\n",
       "        text-align: right;\n",
       "    }\n",
       "</style>\n",
       "<table border=\"1\" class=\"dataframe\">\n",
       "  <thead>\n",
       "    <tr style=\"text-align: right;\">\n",
       "      <th></th>\n",
       "      <th>MYCT</th>\n",
       "      <th>MMIN</th>\n",
       "      <th>MMAX</th>\n",
       "      <th>CACH</th>\n",
       "      <th>CHMIN</th>\n",
       "      <th>CHMAX</th>\n",
       "      <th>PRP</th>\n",
       "    </tr>\n",
       "  </thead>\n",
       "  <tbody>\n",
       "    <tr>\n",
       "      <th>count</th>\n",
       "      <td>209.000000</td>\n",
       "      <td>209.000000</td>\n",
       "      <td>209.000000</td>\n",
       "      <td>209.000000</td>\n",
       "      <td>209.000000</td>\n",
       "      <td>209.000000</td>\n",
       "      <td>209.000000</td>\n",
       "    </tr>\n",
       "    <tr>\n",
       "      <th>mean</th>\n",
       "      <td>4.746955</td>\n",
       "      <td>7.360234</td>\n",
       "      <td>8.922222</td>\n",
       "      <td>2.075453</td>\n",
       "      <td>1.355234</td>\n",
       "      <td>2.407778</td>\n",
       "      <td>4.037242</td>\n",
       "    </tr>\n",
       "    <tr>\n",
       "      <th>std</th>\n",
       "      <td>1.037887</td>\n",
       "      <td>1.103859</td>\n",
       "      <td>1.032150</td>\n",
       "      <td>1.707229</td>\n",
       "      <td>0.805548</td>\n",
       "      <td>1.035995</td>\n",
       "      <td>1.048365</td>\n",
       "    </tr>\n",
       "    <tr>\n",
       "      <th>min</th>\n",
       "      <td>2.833213</td>\n",
       "      <td>4.158883</td>\n",
       "      <td>4.158883</td>\n",
       "      <td>0.000000</td>\n",
       "      <td>0.000000</td>\n",
       "      <td>0.000000</td>\n",
       "      <td>1.791759</td>\n",
       "    </tr>\n",
       "    <tr>\n",
       "      <th>25%</th>\n",
       "      <td>3.912023</td>\n",
       "      <td>6.643790</td>\n",
       "      <td>8.294050</td>\n",
       "      <td>0.000000</td>\n",
       "      <td>0.693147</td>\n",
       "      <td>1.791759</td>\n",
       "      <td>3.295837</td>\n",
       "    </tr>\n",
       "    <tr>\n",
       "      <th>50%</th>\n",
       "      <td>4.700480</td>\n",
       "      <td>7.600902</td>\n",
       "      <td>8.987197</td>\n",
       "      <td>2.197225</td>\n",
       "      <td>1.098612</td>\n",
       "      <td>2.197225</td>\n",
       "      <td>3.912023</td>\n",
       "    </tr>\n",
       "    <tr>\n",
       "      <th>75%</th>\n",
       "      <td>5.416100</td>\n",
       "      <td>8.294050</td>\n",
       "      <td>9.680344</td>\n",
       "      <td>3.496508</td>\n",
       "      <td>1.945910</td>\n",
       "      <td>3.218876</td>\n",
       "      <td>4.727388</td>\n",
       "    </tr>\n",
       "    <tr>\n",
       "      <th>max</th>\n",
       "      <td>7.313220</td>\n",
       "      <td>10.373491</td>\n",
       "      <td>11.066638</td>\n",
       "      <td>5.549076</td>\n",
       "      <td>3.970292</td>\n",
       "      <td>5.176150</td>\n",
       "      <td>7.047517</td>\n",
       "    </tr>\n",
       "  </tbody>\n",
       "</table>\n",
       "</div>"
      ],
      "text/plain": [
       "             MYCT        MMIN        MMAX        CACH       CHMIN       CHMAX  \\\n",
       "count  209.000000  209.000000  209.000000  209.000000  209.000000  209.000000   \n",
       "mean     4.746955    7.360234    8.922222    2.075453    1.355234    2.407778   \n",
       "std      1.037887    1.103859    1.032150    1.707229    0.805548    1.035995   \n",
       "min      2.833213    4.158883    4.158883    0.000000    0.000000    0.000000   \n",
       "25%      3.912023    6.643790    8.294050    0.000000    0.693147    1.791759   \n",
       "50%      4.700480    7.600902    8.987197    2.197225    1.098612    2.197225   \n",
       "75%      5.416100    8.294050    9.680344    3.496508    1.945910    3.218876   \n",
       "max      7.313220   10.373491   11.066638    5.549076    3.970292    5.176150   \n",
       "\n",
       "              PRP  \n",
       "count  209.000000  \n",
       "mean     4.037242  \n",
       "std      1.048365  \n",
       "min      1.791759  \n",
       "25%      3.295837  \n",
       "50%      3.912023  \n",
       "75%      4.727388  \n",
       "max      7.047517  "
      ]
     },
     "execution_count": 134,
     "metadata": {},
     "output_type": "execute_result"
    }
   ],
   "source": [
    "data_log.describe()"
   ]
  },
  {
   "cell_type": "code",
   "execution_count": 135,
   "id": "7083b383",
   "metadata": {},
   "outputs": [],
   "source": [
    "#From data_transformed creating df & y dataframes for Independent & Dependent variables\n",
    "df = data_log[data_log.columns[0:6]]\n",
    "y = data_log[data_log.columns[-1:]]"
   ]
  },
  {
   "cell_type": "code",
   "execution_count": 136,
   "id": "e60263db",
   "metadata": {},
   "outputs": [
    {
     "name": "stdout",
     "output_type": "stream",
     "text": [
      "0.8086124401913876\n"
     ]
    },
    {
     "data": {
      "image/png": "[encoded data removed]",
      "text/plain": [
       "<Figure size 576x432 with 1 Axes>"
      ]
     },
     "metadata": {},
     "output_type": "display_data"
    }
   ],
   "source": [
    "def plot_variable_importance(X, y):\n",
    "    tree = DecisionTreeClassifier(random_state=99)\n",
    "    tree.fit(X, y)\n",
    "    plot_model_var_imp(tree, X, y)\n",
    "def plot_model_var_imp(model, X, y):\n",
    "    imp = pd.DataFrame(\n",
    "        model.feature_importances_,\n",
    "        columns=['Importance'],\n",
    "        index=X.columns\n",
    "    )\n",
    "    imp = imp.sort_values(['Importance'], ascending=True)\n",
    "    imp[: 10].plot(kind='barh')\n",
    "    print(model.score(X, y))\n",
    "    \n",
    "plot_variable_importance(data_log[data_log.columns[2:-1]].astype('int'), y.astype('int'))"
   ]
  },
  {
   "cell_type": "markdown",
   "id": "17d4af6c",
   "metadata": {},
   "source": [
    "From the above we can see that CACH has the maximum variable importance and all these variables.\n"
   ]
  },
  {
   "cell_type": "code",
   "execution_count": 137,
   "id": "a925bcd4",
   "metadata": {},
   "outputs": [],
   "source": [
    "# Using Skicit-learn to split data into training and testing sets\n",
    "from sklearn.model_selection import train_test_split\n",
    "# Split the data into training and testing sets\n",
    "train_features, test_features, train_labels, test_labels = train_test_split(df,y, test_size = 0.15, random_state = 42)"
   ]
  },
  {
   "cell_type": "code",
   "execution_count": 138,
   "id": "f8194a0a",
   "metadata": {},
   "outputs": [
    {
     "name": "stdout",
     "output_type": "stream",
     "text": [
      "Training Features Shape: (177, 6)\n",
      "Training Labels Shape: (177, 1)\n",
      "Testing Features Shape: (32, 6)\n",
      "Testing Labels Shape: (32, 1)\n"
     ]
    }
   ],
   "source": [
    "print('Training Features Shape:', train_features.shape)\n",
    "print('Training Labels Shape:', train_labels.shape)\n",
    "print('Testing Features Shape:', test_features.shape)\n",
    "print('Testing Labels Shape:', test_labels.shape)"
   ]
  },
  {
   "cell_type": "markdown",
   "id": "50a261f6",
   "metadata": {},
   "source": [
    "## Using Randomforest Algorithm"
   ]
  },
  {
   "cell_type": "code",
   "execution_count": 139,
   "id": "fb80b455",
   "metadata": {},
   "outputs": [],
   "source": [
    "# Import the model we are using\n",
    "from sklearn.ensemble import RandomForestRegressor\n",
    "# Instantiate model with 1000 decision trees\n",
    "rf = RandomForestRegressor(n_estimators = 1000, random_state = 42)\n",
    "# Train the model on training data\n",
    "rf.fit(train_features, train_labels);"
   ]
  },
  {
   "cell_type": "code",
   "execution_count": 140,
   "id": "efe530fb",
   "metadata": {},
   "outputs": [
    {
     "name": "stdout",
     "output_type": "stream",
     "text": [
      "<class 'numpy.ndarray'> <class 'pandas.core.frame.DataFrame'>\n",
      "Mean Absolute Error: 0.03 .\n"
     ]
    }
   ],
   "source": [
    "# Use the forest's predict method on the test data\n",
    "predictions = rf.predict(test_features)\n",
    "print(type(predictions), type(test_labels))\n",
    "# Calculate the absolute errors\n",
    "errors = ((predictions) - np.array(test_labels)) #Here converting the test_lables to 'np.array' to calculate the 'errors'\n",
    "# Print out the mean absolute error (mae)\n",
    "print('Mean Absolute Error:', round(np.mean(errors), 2), '.')"
   ]
  },
  {
   "cell_type": "code",
   "execution_count": 141,
   "id": "5b1bf0a3",
   "metadata": {},
   "outputs": [
    {
     "name": "stdout",
     "output_type": "stream",
     "text": [
      "Accuracy: 90.55 %.\n"
     ]
    }
   ],
   "source": [
    "# Calculate mean absolute percentage error (MAPE)\n",
    "mape = 100 * ((errors / np.array(test_labels)))\n",
    "# Calculate and display accuracy\n",
    "accuracy = 100 - np.mean(mape)\n",
    "print('Accuracy:', round(accuracy, 2), '%.')"
   ]
  },
  {
   "cell_type": "markdown",
   "id": "80897b7a",
   "metadata": {},
   "source": [
    "The above seems to be good,but lets try other models too"
   ]
  },
  {
   "cell_type": "markdown",
   "id": "62dd3439",
   "metadata": {},
   "source": [
    "## linear regression model"
   ]
  },
  {
   "cell_type": "code",
   "execution_count": 142,
   "id": "9fb02aa6",
   "metadata": {},
   "outputs": [
    {
     "data": {
      "image/png": "[encoded data removed]",
      "text/plain": [
       "<Figure size 576x432 with 1 Axes>"
      ]
     },
     "metadata": {},
     "output_type": "display_data"
    },
    {
     "name": "stdout",
     "output_type": "stream",
     "text": [
      "Score: 0.7972537774077142\n"
     ]
    }
   ],
   "source": [
    "from sklearn import linear_model\n",
    "lm = linear_model.LinearRegression()\n",
    "model = lm.fit(train_features, train_labels)\n",
    "predictions = lm.predict(test_features)\n",
    "## The line / model\n",
    "plt.scatter(test_labels, predictions)\n",
    "plt.xlabel('True Values')\n",
    "plt.ylabel('Predictions')\n",
    "plt.show()\n",
    "\n",
    "print ('Score:', model.score(test_features, test_labels))\n"
   ]
  },
  {
   "cell_type": "markdown",
   "id": "43e7af9c",
   "metadata": {},
   "source": [
    "Here we can see that linear method got us 79% accuracy not bad but comparing to RF its poor."
   ]
  },
  {
   "cell_type": "markdown",
   "id": "3bb290f0",
   "metadata": {},
   "source": [
    "## GradientBoosting Regressor"
   ]
  },
  {
   "cell_type": "code",
   "execution_count": 143,
   "id": "8b251eea",
   "metadata": {},
   "outputs": [
    {
     "name": "stdout",
     "output_type": "stream",
     "text": [
      "Score: 0.8722073880273656\n"
     ]
    },
    {
     "data": {
      "image/png": "[encoded data removed]",
      "text/plain": [
       "<Figure size 576x432 with 1 Axes>"
      ]
     },
     "metadata": {},
     "output_type": "display_data"
    }
   ],
   "source": [
    "from sklearn.ensemble import GradientBoostingRegressor\n",
    "model= GradientBoostingRegressor()\n",
    "model.fit(train_features, train_labels)\n",
    "model.score(test_features,test_labels)\n",
    "print ('Score:', model.score(test_features, test_labels))\n",
    "predictions = model.predict(test_features)\n",
    "## The line / model\n",
    "plt.scatter(test_labels, predictions)\n",
    "plt.xlabel('True Values')\n",
    "plt.ylabel('Predictions')\n",
    "plt.show()"
   ]
  },
  {
   "cell_type": "markdown",
   "id": "54eab3a4",
   "metadata": {},
   "source": [
    "## AdaBoostRegressor"
   ]
  },
  {
   "cell_type": "code",
   "execution_count": 144,
   "id": "ae911e3c",
   "metadata": {},
   "outputs": [
    {
     "name": "stdout",
     "output_type": "stream",
     "text": [
      "Score: 0.8413896819070931\n"
     ]
    },
    {
     "data": {
      "image/png": "[encoded data removed]",
      "text/plain": [
       "<Figure size 576x432 with 1 Axes>"
      ]
     },
     "metadata": {},
     "output_type": "display_data"
    }
   ],
   "source": [
    "from sklearn.ensemble import AdaBoostRegressor\n",
    "model = AdaBoostRegressor()\n",
    "model.fit(train_features , train_labels)\n",
    "model.score(test_features,test_labels)\n",
    "print ('Score:', model.score(test_features, test_labels))\n",
    "predictions = model.predict(test_features)\n",
    "## The line / model\n",
    "plt.scatter(test_labels, predictions)\n",
    "plt.xlabel('True Values')\n",
    "plt.ylabel('Predictions')\n",
    "plt.show()"
   ]
  },
  {
   "cell_type": "markdown",
   "id": "b172e2b8",
   "metadata": {},
   "source": [
    "## BaggingRegressor"
   ]
  },
  {
   "cell_type": "code",
   "execution_count": 145,
   "id": "3c3913a3",
   "metadata": {},
   "outputs": [
    {
     "data": {
      "image/png": "[encoded data removed]",
      "text/plain": [
       "<Figure size 576x432 with 1 Axes>"
      ]
     },
     "metadata": {},
     "output_type": "display_data"
    },
    {
     "name": "stdout",
     "output_type": "stream",
     "text": [
      "Score: 0.8403086279316951\n"
     ]
    }
   ],
   "source": [
    "from sklearn.ensemble import BaggingRegressor\n",
    "from sklearn import tree\n",
    "model = BaggingRegressor(tree.DecisionTreeRegressor(random_state=1))\n",
    "model.fit(train_features , train_labels)\n",
    "model.score(test_features,test_labels)\n",
    "predictions = model.predict(test_features)\n",
    "## The line / model\n",
    "## The line / model\n",
    "plt.scatter(test_labels, predictions)\n",
    "plt.xlabel('True Values')\n",
    "plt.ylabel('Predictions')\n",
    "plt.show()\n",
    "print ('Score:', model.score(test_features, test_labels))"
   ]
  },
  {
   "cell_type": "markdown",
   "id": "558d0c26",
   "metadata": {},
   "source": [
    "As we can see here,\n",
    "\n",
    "Random forest Regressor gives 90.55 % of Accuracy\n",
    "\n",
    "Linear regression gives 79.72% of Accuracy\n",
    "\n",
    "Gradient Boosting Regressor gives 87.33% of Accuracy\n",
    "\n",
    "AdaBoost Regressor gives 84.53% of Accuracy\n",
    "\n",
    "Bagging Regressor gives 85.11% of Accuracy"
   ]
  },
  {
   "cell_type": "code",
   "execution_count": 146,
   "id": "28d56863",
   "metadata": {},
   "outputs": [
    {
     "name": "stdout",
     "output_type": "stream",
     "text": [
      "                            OLS Regression Results                            \n",
      "==============================================================================\n",
      "Dep. Variable:                    PRP   R-squared:                       0.829\n",
      "Model:                            OLS   Adj. R-squared:                  0.824\n",
      "Method:                 Least Squares   F-statistic:                     163.3\n",
      "Date:                Wed, 09 Feb 2022   Prob (F-statistic):           1.18e-74\n",
      "Time:                        02:29:47   Log-Likelihood:                -121.32\n",
      "No. Observations:                 209   AIC:                             256.6\n",
      "Df Residuals:                     202   BIC:                             280.0\n",
      "Df Model:                           6                                         \n",
      "Covariance Type:            nonrobust                                         \n",
      "==============================================================================\n",
      "                 coef    std err          t      P>|t|      [0.025      0.975]\n",
      "------------------------------------------------------------------------------\n",
      "const         -1.2974      0.547     -2.373      0.019      -2.376      -0.219\n",
      "MYCT           0.0051      0.048      0.105      0.917      -0.090       0.100\n",
      "MMIN           0.1949      0.049      3.983      0.000       0.098       0.291\n",
      "MMAX           0.3250      0.048      6.811      0.000       0.231       0.419\n",
      "CACH           0.1889      0.025      7.544      0.000       0.139       0.238\n",
      "CHMIN          0.1945      0.060      3.217      0.002       0.075       0.314\n",
      "CHMAX          0.1329      0.045      2.978      0.003       0.045       0.221\n",
      "==============================================================================\n",
      "Omnibus:                        3.897   Durbin-Watson:                   1.172\n",
      "Prob(Omnibus):                  0.142   Jarque-Bera (JB):                4.234\n",
      "Skew:                           0.145   Prob(JB):                        0.120\n",
      "Kurtosis:                       3.634   Cond. No.                         236.\n",
      "==============================================================================\n",
      "\n",
      "Notes:\n",
      "[1] Standard Errors assume that the covariance matrix of the errors is correctly specified.\n"
     ]
    }
   ],
   "source": [
    "import statsmodels.api as sm\n",
    "X2 = sm.add_constant(df)\n",
    "est = sm.OLS(y, X2)\n",
    "est2 = est.fit()\n",
    "print(est2.summary())"
   ]
  },
  {
   "cell_type": "markdown",
   "id": "c5ba515a",
   "metadata": {},
   "source": [
    "As you can see, the R² is much higher than that of simple linear regression, with a value of 0.829!\n",
    "\n",
    "Also, the F-statistic is 163.3. This is much greater than 1, and since our data set if fairly small , it demonstrates that there is a strong relationship.\n",
    "Finally, because we only have three predictors, we can consider their p-value to determine if they are relevant to the model or not. Of course, you notice that the second coefficient has a large p-value. Therefore, MYCT is not statistically significant. Removing that predictor would slightly reduce the R² value, but we might make better predictions.\n"
   ]
  },
  {
   "cell_type": "code",
   "execution_count": null,
   "id": "86956f0c",
   "metadata": {},
   "outputs": [],
   "source": []
  }
 ],
 "metadata": {
  "kernelspec": {
   "display_name": "Python 3",
   "language": "python",
   "name": "python3"
  },
  "language_info": {
   "codemirror_mode": {
    "name": "ipython",
    "version": 3
   },
   "file_extension": ".py",
   "mimetype": "text/x-python",
   "name": "python",
   "nbconvert_exporter": "python",
   "pygments_lexer": "ipython3",
   "version": "3.8.5"
  }
 },
 "nbformat": 4,
 "nbformat_minor": 5
}
